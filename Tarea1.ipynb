{
  "nbformat": 4,
  "nbformat_minor": 0,
  "metadata": {
    "colab": {
      "provenance": [],
      "toc_visible": true,
      "authorship_tag": "ABX9TyNzWHJY9gVms4wwCQNlqBUF",
      "include_colab_link": true
    },
    "kernelspec": {
      "name": "python3",
      "display_name": "Python 3"
    },
    "language_info": {
      "name": "python"
    }
  },
  "cells": [
    {
      "cell_type": "markdown",
      "metadata": {
        "id": "view-in-github",
        "colab_type": "text"
      },
      "source": [
        "<a href=\"https://colab.research.google.com/github/RogueOne-22/IA-1er-Corte/blob/main/Tarea1.ipynb\" target=\"_parent\"><img src=\"https://colab.research.google.com/assets/colab-badge.svg\" alt=\"Open In Colab\"/></a>"
      ]
    },
    {
      "cell_type": "code",
      "source": [
        "# ========================\n",
        "# 1. VARIABLES DE ESTADO\n",
        "# ========================\n",
        "# Se define el estado de un robot: posición (x, y), batería y objetivo alcanzado\n",
        "\n",
        "estado_robot = {\n",
        "    \"posicion\": (0, 0),\n",
        "    \"bateria\": 100,\n",
        "    \"objetivo_alcanzado\": False\n",
        "}\n",
        "\n",
        "print(\"Estado inicial del robot:\", estado_robot)\n",
        "\n",
        "# ========================\n",
        "# 2. ESPACIO DE ESTADOS\n",
        "# ========================\n",
        "# Se define todas las combinaciones posibles de posición y batería\n",
        "\n",
        "posiciones = [(x, y) for x in range(3) for y in range(3)]\n",
        "baterias = [\"alta\", \"baja\"]\n",
        "\n",
        "espacio_estados = [(p, b) for p in posiciones for b in baterias]\n",
        "print(\"\\nTotal de estados posibles:\", len(espacio_estados))\n",
        "print(\"Ejemplos de estados:\", espacio_estados[:5])\n",
        "\n",
        "# ========================\n",
        "# 3. ESPACIO DE ACCIONES\n",
        "# ========================\n",
        "acciones = [\"adelante\", \"atras\", \"izquierda\", \"derecha\", \"recargar\"]\n",
        "print(\"\\nAcciones posibles:\", acciones)\n",
        "\n",
        "# ========================\n",
        "# 4. FUNCIÓN DE RECOMPENSA\n",
        "# ========================\n",
        "def recompensa(accion, nuevo_estado):\n",
        "    if accion == \"recargar\":\n",
        "        return 5\n",
        "    elif nuevo_estado[\"objetivo_alcanzado\"]:\n",
        "        return 10\n",
        "    elif accion in [\"adelante\", \"atras\", \"izquierda\", \"derecha\"]:\n",
        "        return -1  # Costo de moverse\n",
        "    else:\n",
        "        return 0\n",
        "\n",
        "# ========================\n",
        "# 5. AMBIENTE Y SIMULACIÓN\n",
        "# ========================\n",
        "import random\n",
        "\n",
        "def mover_robot(estado, accion):\n",
        "    x, y = estado[\"posicion\"]\n",
        "\n",
        "    if accion == \"recargar\":\n",
        "        estado[\"bateria\"] = 100\n",
        "\n",
        "    elif estado[\"bateria\"] > 0:\n",
        "        if accion == \"adelante\":\n",
        "            x = min(x + 1, 2)\n",
        "        elif accion == \"atras\":\n",
        "            x = max(x - 1, 0)\n",
        "        elif accion == \"derecha\":\n",
        "            y = min(y + 1, 2)\n",
        "        elif accion == \"izquierda\":\n",
        "            y = max(y - 1, 0)\n",
        "\n",
        "\n",
        "        estado[\"posicion\"] = (x, y)\n",
        "        estado[\"bateria\"] = max(0, estado[\"bateria\"] - 15)\n",
        "\n",
        "\n",
        "    else:\n",
        "        print(\"Batería agotada, debe recargar\")\n",
        "\n",
        "\n",
        "    if estado[\"posicion\"] == (2, 2):\n",
        "        estado[\"objetivo_alcanzado\"] = True\n",
        "\n",
        "    return estado\n",
        "\n",
        "# ========================\n",
        "# 6. SIMULACIÓN DEL ROBOT\n",
        "# ========================\n",
        "estado = {\"posicion\": (0, 0), \"bateria\":40 , \"objetivo_alcanzado\": False}\n",
        "recompensa_total = 0\n",
        "\n",
        "for paso in range(10):\n",
        "    accion = random.choice(acciones)\n",
        "    estado = mover_robot(estado, accion)\n",
        "    r = recompensa(accion, estado)\n",
        "    recompensa_total += r\n",
        "\n",
        "    print(f\"Paso {paso+1}: Acción = {accion}, Estado = {estado}, Recompensa = {r}\")\n",
        "\n",
        "print(\"\\nRecompensa total obtenida:\", recompensa_total)"
      ],
      "metadata": {
        "colab": {
          "base_uri": "https://localhost:8080/"
        },
        "id": "leXSDKunKsoH",
        "outputId": "284f6f21-9b15-4542-9d03-8012589144d9"
      },
      "execution_count": 16,
      "outputs": [
        {
          "output_type": "stream",
          "name": "stdout",
          "text": [
            "Estado inicial del robot: {'posicion': (0, 0), 'bateria': 100, 'objetivo_alcanzado': False}\n",
            "\n",
            "Total de estados posibles: 18\n",
            "Ejemplos de estados: [((0, 0), 'alta'), ((0, 0), 'baja'), ((0, 1), 'alta'), ((0, 1), 'baja'), ((0, 2), 'alta')]\n",
            "\n",
            "Acciones posibles: ['adelante', 'atras', 'izquierda', 'derecha', 'recargar']\n",
            "Paso 1: Acción = adelante, Estado = {'posicion': (1, 0), 'bateria': 25, 'objetivo_alcanzado': False}, Recompensa = -1\n",
            "Paso 2: Acción = adelante, Estado = {'posicion': (2, 0), 'bateria': 10, 'objetivo_alcanzado': False}, Recompensa = -1\n",
            "Paso 3: Acción = derecha, Estado = {'posicion': (2, 1), 'bateria': 0, 'objetivo_alcanzado': False}, Recompensa = -1\n",
            "⚠️ Sin batería, debe recargar para moverse.\n",
            "Paso 4: Acción = derecha, Estado = {'posicion': (2, 1), 'bateria': 0, 'objetivo_alcanzado': False}, Recompensa = -1\n",
            "Paso 5: Acción = recargar, Estado = {'posicion': (2, 1), 'bateria': 100, 'objetivo_alcanzado': False}, Recompensa = 5\n",
            "Paso 6: Acción = izquierda, Estado = {'posicion': (2, 0), 'bateria': 85, 'objetivo_alcanzado': False}, Recompensa = -1\n",
            "Paso 7: Acción = izquierda, Estado = {'posicion': (2, 0), 'bateria': 70, 'objetivo_alcanzado': False}, Recompensa = -1\n",
            "Paso 8: Acción = izquierda, Estado = {'posicion': (2, 0), 'bateria': 55, 'objetivo_alcanzado': False}, Recompensa = -1\n",
            "Paso 9: Acción = adelante, Estado = {'posicion': (2, 0), 'bateria': 40, 'objetivo_alcanzado': False}, Recompensa = -1\n",
            "Paso 10: Acción = recargar, Estado = {'posicion': (2, 0), 'bateria': 100, 'objetivo_alcanzado': False}, Recompensa = 5\n",
            "\n",
            "Recompensa total obtenida: 2\n"
          ]
        }
      ]
    },
    {
      "cell_type": "markdown",
      "source": [
        "# Nueva sección"
      ],
      "metadata": {
        "id": "CJbaP3YZQOYK"
      }
    }
  ]
}